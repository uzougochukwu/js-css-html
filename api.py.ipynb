{
 "cells": [
  {
   "cell_type": "code",
   "execution_count": 3,
   "id": "687159bd",
   "metadata": {},
   "outputs": [
    {
     "name": "stdout",
     "output_type": "stream",
     "text": [
      "Requirement already satisfied: flask in c:\\users\\uzo30\\anaconda3\\lib\\site-packages (2.2.5)\n",
      "Requirement already satisfied: Werkzeug>=2.2.2 in c:\\users\\uzo30\\anaconda3\\lib\\site-packages (from flask) (2.2.3)\n",
      "Requirement already satisfied: Jinja2>=3.0 in c:\\users\\uzo30\\anaconda3\\lib\\site-packages (from flask) (3.1.2)\n",
      "Requirement already satisfied: itsdangerous>=2.0 in c:\\users\\uzo30\\anaconda3\\lib\\site-packages (from flask) (2.0.1)\n",
      "Requirement already satisfied: click>=8.0 in c:\\users\\uzo30\\anaconda3\\lib\\site-packages (from flask) (8.0.4)\n",
      "Requirement already satisfied: colorama in c:\\users\\uzo30\\anaconda3\\lib\\site-packages (from click>=8.0->flask) (0.4.6)\n",
      "Requirement already satisfied: MarkupSafe>=2.0 in c:\\users\\uzo30\\anaconda3\\lib\\site-packages (from Jinja2>=3.0->flask) (2.1.1)\n",
      "Collecting flask_restful\n",
      "  Obtaining dependency information for flask_restful from https://files.pythonhosted.org/packages/d7/7b/f0b45f0df7d2978e5ae51804bb5939b7897b2ace24306009da0cc34d8d1f/Flask_RESTful-0.3.10-py2.py3-none-any.whl.metadata\n",
      "  Downloading Flask_RESTful-0.3.10-py2.py3-none-any.whl.metadata (1.0 kB)\n",
      "Collecting aniso8601>=0.82 (from flask_restful)\n",
      "  Downloading aniso8601-9.0.1-py2.py3-none-any.whl (52 kB)\n",
      "     ---------------------------------------- 0.0/52.8 kB ? eta -:--:--\n",
      "     -------------- ----------------------- 20.5/52.8 kB 640.0 kB/s eta 0:00:01\n",
      "     -------------------------------------- 52.8/52.8 kB 674.8 kB/s eta 0:00:00\n",
      "Requirement already satisfied: Flask>=0.8 in c:\\users\\uzo30\\anaconda3\\lib\\site-packages (from flask_restful) (2.2.5)\n",
      "Requirement already satisfied: six>=1.3.0 in c:\\users\\uzo30\\anaconda3\\lib\\site-packages (from flask_restful) (1.16.0)\n",
      "Requirement already satisfied: pytz in c:\\users\\uzo30\\anaconda3\\lib\\site-packages (from flask_restful) (2023.3.post1)\n",
      "Requirement already satisfied: Werkzeug>=2.2.2 in c:\\users\\uzo30\\anaconda3\\lib\\site-packages (from Flask>=0.8->flask_restful) (2.2.3)\n",
      "Requirement already satisfied: Jinja2>=3.0 in c:\\users\\uzo30\\anaconda3\\lib\\site-packages (from Flask>=0.8->flask_restful) (3.1.2)\n",
      "Requirement already satisfied: itsdangerous>=2.0 in c:\\users\\uzo30\\anaconda3\\lib\\site-packages (from Flask>=0.8->flask_restful) (2.0.1)\n",
      "Requirement already satisfied: click>=8.0 in c:\\users\\uzo30\\anaconda3\\lib\\site-packages (from Flask>=0.8->flask_restful) (8.0.4)\n",
      "Requirement already satisfied: colorama in c:\\users\\uzo30\\anaconda3\\lib\\site-packages (from click>=8.0->Flask>=0.8->flask_restful) (0.4.6)\n",
      "Requirement already satisfied: MarkupSafe>=2.0 in c:\\users\\uzo30\\anaconda3\\lib\\site-packages (from Jinja2>=3.0->Flask>=0.8->flask_restful) (2.1.1)\n",
      "Downloading Flask_RESTful-0.3.10-py2.py3-none-any.whl (26 kB)\n",
      "Installing collected packages: aniso8601, flask_restful\n",
      "Successfully installed aniso8601-9.0.1 flask_restful-0.3.10\n"
     ]
    }
   ],
   "source": [
    "!pip install flask\n",
    "!pip install flask_restful\n"
   ]
  },
  {
   "cell_type": "code",
   "execution_count": 4,
   "id": "6b5a532c",
   "metadata": {},
   "outputs": [
    {
     "name": "stdout",
     "output_type": "stream",
     "text": [
      " * Serving Flask app '__main__'\n",
      " * Debug mode: on\n"
     ]
    },
    {
     "name": "stderr",
     "output_type": "stream",
     "text": [
      "WARNING: This is a development server. Do not use it in a production deployment. Use a production WSGI server instead.\n",
      " * Running on http://127.0.0.1:5000\n",
      "Press CTRL+C to quit\n",
      " * Restarting with watchdog (windowsapi)\n"
     ]
    },
    {
     "ename": "SystemExit",
     "evalue": "1",
     "output_type": "error",
     "traceback": [
      "An exception has occurred, use %tb to see the full traceback.\n",
      "\u001b[1;31mSystemExit\u001b[0m\u001b[1;31m:\u001b[0m 1\n"
     ]
    },
    {
     "name": "stderr",
     "output_type": "stream",
     "text": [
      "C:\\Users\\uzo30\\anaconda3\\Lib\\site-packages\\IPython\\core\\interactiveshell.py:3534: UserWarning: To exit: use 'exit', 'quit', or Ctrl-D.\n",
      "  warn(\"To exit: use 'exit', 'quit', or Ctrl-D.\", stacklevel=1)\n"
     ]
    }
   ],
   "source": [
    "from flask import Flask\n",
    "from flask_restful import Api, Resource, reqparse\n",
    " \n",
    "app = Flask(__name__)\n",
    "api = Api(app)\n",
    " \n",
    "users = [\n",
    "    {\n",
    "        \"name\": \"James\",\n",
    "        \"age\": 30,\n",
    "        \"occupation\": \"Network Engineer\"\n",
    "    },\n",
    "    {\n",
    "        \"name\": \"Ann\",\n",
    "        \"age\": 32,\n",
    "        \"occupation\": \"Doctor\"\n",
    "    },\n",
    "    {\n",
    "        \"name\": \"Jason\",\n",
    "        \"age\": 22,\n",
    "        \"occupation\": \"Web Developer\"\n",
    "    }\n",
    "]\n",
    " \n",
    "class User(Resource):\n",
    "    def get(self, name):\n",
    "        for user in users:\n",
    "            if(name == user[\"name\"]):\n",
    "                return user, 200\n",
    "        return \"User not found\", 404\n",
    " \n",
    "    def post(self, name):\n",
    "        parser = reqparse.RequestParser()\n",
    "        parser.add_argument(\"age\")\n",
    "        parser.add_argument(\"occupation\")\n",
    "        args = parser.parse_args()\n",
    " \n",
    "        for user in users:\n",
    "            if(name == user[\"name\"]):\n",
    "                return \"User with name {} already exists\".format(name), 400\n",
    " \n",
    "        user = {\n",
    "            \"name\": name,\n",
    "            \"age\": args[\"age\"],\n",
    "            \"occupation\": args[\"occupation\"]\n",
    "        }\n",
    "        users.append(user)\n",
    "        return user, 201\n",
    " \n",
    "    def put(self, name):\n",
    "        parser = reqparse.RequestParser()\n",
    "        parser.add_argument(\"age\")\n",
    "        parser.add_argument(\"occupation\")\n",
    "        args = parser.parse_args()\n",
    " \n",
    "        for user in users:\n",
    "            if(name == user[\"name\"]):\n",
    "                user[\"age\"] = args[\"age\"]\n",
    "                user[\"occupation\"] = args[\"occupation\"]\n",
    "                return user, 200\n",
    "        \n",
    "        user = {\n",
    "            \"name\": name,\n",
    "            \"age\": args[\"age\"],\n",
    "            \"occupation\": args[\"occupation\"]\n",
    "        }\n",
    "        users.append(user)\n",
    "        return user, 201\n",
    " \n",
    "    def delete(self, name):\n",
    "        global users\n",
    "        users = [user for user in users if user[\"name\"] != name]\n",
    "        return \"{} is deleted.\".format(name), 200\n",
    "      \n",
    "api.add_resource(User, \"/user/<string:name>\")\n",
    " \n",
    "app.run(debug=True)"
   ]
  },
  {
   "cell_type": "code",
   "execution_count": 3,
   "id": "8f955ae2",
   "metadata": {},
   "outputs": [
    {
     "ename": "SyntaxError",
     "evalue": "invalid syntax (2736082837.py, line 1)",
     "output_type": "error",
     "traceback": [
      "\u001b[1;36m  Cell \u001b[1;32mIn[3], line 1\u001b[1;36m\u001b[0m\n\u001b[1;33m    w3m http://127.0.0.1:5000/user/Ann\u001b[0m\n\u001b[1;37m        ^\u001b[0m\n\u001b[1;31mSyntaxError\u001b[0m\u001b[1;31m:\u001b[0m invalid syntax\n"
     ]
    }
   ],
   "source": [
    "w3m http://127.0.0.1:5000/user/Ann"
   ]
  },
  {
   "cell_type": "code",
   "execution_count": 2,
   "id": "c2d948cd",
   "metadata": {},
   "outputs": [],
   "source": [
    "import subprocess"
   ]
  },
  {
   "cell_type": "code",
   "execution_count": 4,
   "id": "d307b7e5",
   "metadata": {},
   "outputs": [
    {
     "ename": "SyntaxError",
     "evalue": "invalid syntax (2736082837.py, line 1)",
     "output_type": "error",
     "traceback": [
      "\u001b[1;36m  Cell \u001b[1;32mIn[4], line 1\u001b[1;36m\u001b[0m\n\u001b[1;33m    w3m http://127.0.0.1:5000/user/Ann\u001b[0m\n\u001b[1;37m        ^\u001b[0m\n\u001b[1;31mSyntaxError\u001b[0m\u001b[1;31m:\u001b[0m invalid syntax\n"
     ]
    }
   ],
   "source": [
    "w3m http://127.0.0.1:5000/user/Ann"
   ]
  },
  {
   "cell_type": "code",
   "execution_count": null,
   "id": "0d71b863",
   "metadata": {},
   "outputs": [],
   "source": []
  }
 ],
 "metadata": {
  "kernelspec": {
   "display_name": "Python 3 (ipykernel)",
   "language": "python",
   "name": "python3"
  },
  "language_info": {
   "codemirror_mode": {
    "name": "ipython",
    "version": 3
   },
   "file_extension": ".py",
   "mimetype": "text/x-python",
   "name": "python",
   "nbconvert_exporter": "python",
   "pygments_lexer": "ipython3",
   "version": "3.11.5"
  }
 },
 "nbformat": 4,
 "nbformat_minor": 5
}
